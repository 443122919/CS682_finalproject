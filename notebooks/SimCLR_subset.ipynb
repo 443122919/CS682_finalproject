{
  "nbformat": 4,
  "nbformat_minor": 0,
  "metadata": {
    "accelerator": "GPU",
    "colab": {
      "name": "SimCLR-subset",
      "provenance": [],
      "collapsed_sections": [],
      "toc_visible": true,
      "machine_shape": "hm"
    },
    "kernelspec": {
      "display_name": "Python 3",
      "name": "python3"
    },
    "language_info": {
      "name": "python"
    }
  },
  "cells": [
    {
      "cell_type": "markdown",
      "metadata": {
        "id": "vtyRq4HbUKZU"
      },
      "source": [
        "## Import Dataset and Basic Setup"
      ]
    },
    {
      "cell_type": "code",
      "metadata": {
        "id": "SHCCPhmDXE-S"
      },
      "source": [
        "import torch\n",
        "import json\n",
        "import os\n",
        "\n",
        "from torchvision.transforms import ToTensor\n",
        "from PIL import Image\n",
        "from torch.utils.data import Dataset\n",
        "from torch.utils.data.dataloader import *\n",
        "img_to_tensor = ToTensor()\n",
        "\n",
        "import time\n",
        "import copy\n",
        "import numpy as np\n",
        "import matplotlib.pyplot as plt"
      ],
      "execution_count": null,
      "outputs": []
    },
    {
      "cell_type": "code",
      "metadata": {
        "colab": {
          "base_uri": "https://localhost:8080/"
        },
        "id": "W17XF3eNXNpM",
        "outputId": "81b7ac41-85ab-4a88-ed08-cffc67d2607d"
      },
      "source": [
        "!wget http://cs231n.stanford.edu/tiny-imagenet-200.zip"
      ],
      "execution_count": null,
      "outputs": [
        {
          "output_type": "stream",
          "text": [
            "--2021-05-07 14:56:46--  http://cs231n.stanford.edu/tiny-imagenet-200.zip\n",
            "Resolving cs231n.stanford.edu (cs231n.stanford.edu)... 171.64.68.10\n",
            "Connecting to cs231n.stanford.edu (cs231n.stanford.edu)|171.64.68.10|:80... connected.\n",
            "HTTP request sent, awaiting response... 200 OK\n",
            "Length: 248100043 (237M) [application/zip]\n",
            "Saving to: ‘tiny-imagenet-200.zip’\n",
            "\n",
            "tiny-imagenet-200.z 100%[===================>] 236.61M  67.4MB/s    in 4.0s    \n",
            "\n",
            "2021-05-07 14:56:50 (58.5 MB/s) - ‘tiny-imagenet-200.zip’ saved [248100043/248100043]\n",
            "\n"
          ],
          "name": "stdout"
        }
      ]
    },
    {
      "cell_type": "code",
      "metadata": {
        "colab": {
          "base_uri": "https://localhost:8080/"
        },
        "id": "-tit-0jfXNmc",
        "outputId": "3e6ce65a-e72a-4c91-f2da-ad6cd96f328f"
      },
      "source": [
        "!unzip -q tiny-imagenet-200.zip && ls tiny-imagenet-200"
      ],
      "execution_count": null,
      "outputs": [
        {
          "output_type": "stream",
          "text": [
            "test  train  val  wnids.txt  words.txt\n"
          ],
          "name": "stdout"
        }
      ]
    },
    {
      "cell_type": "code",
      "metadata": {
        "id": "tSVcRSYqgO5r",
        "colab": {
          "base_uri": "https://localhost:8080/"
        },
        "outputId": "3c5b3f0a-527b-47fd-c58c-7cdebb03eadc"
      },
      "source": [
        "import os\n",
        "import random\n",
        "import sys\n",
        "import shutil\n",
        "def find_classes(class_file):\n",
        "    with open(class_file) as r:\n",
        "        classes = list(map(lambda s: s.strip(), r.readlines()))\n",
        "\n",
        "    classes.sort()\n",
        "    class_to_idx = {classes[i]: i for i in range(len(classes))}\n",
        "\n",
        "    return classes, class_to_idx\n",
        "\n",
        "def generate_partial_data(dataset_path,new_dataset_path, percent):\n",
        "    if os.path.isdir(new_dataset_path):\n",
        "        shutil.rmtree(new_dataset_path)\n",
        "    os.makedirs(new_dataset_path, exist_ok=True)\n",
        "    if 'tiny-imagenet-200' in dataset_path:\n",
        "        _, class_to_idx = find_classes(os.path.join(dataset_path, 'wnids.txt'))\n",
        "        shutil.copyfile(os.path.join(dataset_path, 'wnids.txt'),os.path.join(new_dataset_path, 'wnids.txt'))\n",
        "\n",
        "    for dirname in ['train', 'val', 'test']:\n",
        "        images = make_partial_dataset(dataset_path,new_dataset_path, dirname,class_to_idx, percent)\n",
        "\n",
        "\n",
        "def make_partial_dataset(dataset_path,new_dataset_path,  dirname, class_to_idx, percent=0.01):\n",
        "    images = []\n",
        "    dir_path = os.path.join(dataset_path, dirname)\n",
        "    new_dir_path = os.path.join(new_dataset_path, dirname)\n",
        "    os.makedirs(new_dir_path, exist_ok=True)\n",
        "    if dirname == 'train':\n",
        "        for fname in sorted(os.listdir(dir_path)):\n",
        "            cls_fpath = os.path.join(dir_path, fname)\n",
        "            new_cls_fpath = os.path.join(new_dir_path, fname)\n",
        "            os.makedirs(new_cls_fpath, exist_ok=True)\n",
        "            if os.path.isdir(cls_fpath):\n",
        "                cls_imgs_path = os.path.join(cls_fpath, 'images')\n",
        "                new_cls_imgs_path = os.path.join(new_cls_fpath, 'images')\n",
        "                os.makedirs(new_cls_imgs_path, exist_ok=True)\n",
        "                image_names = os.listdir(cls_imgs_path)\n",
        "                image_number = len(image_names)\n",
        "                images = random.sample(image_names, int(image_number*percent))\n",
        "                print(len(images),'for each class in train set')\n",
        "                for image in images:\n",
        "                    shutil.copyfile(os.path.join(cls_imgs_path, image), os.path.join(new_cls_imgs_path, image))\n",
        "                \n",
        "    elif dirname == 'val':\n",
        "        imgs_path = os.path.join(dir_path, 'images')\n",
        "        imgs_annotations = os.path.join(dir_path, 'val_annotations.txt')\n",
        "        shutil.copyfile(imgs_annotations, os.path.join(new_dir_path, 'val_annotations.txt'))\n",
        "        new_imgs_path = os.path.join(new_dir_path, 'images')\n",
        "        os.makedirs(new_imgs_path, exist_ok=True)\n",
        "        with open(imgs_annotations) as r:\n",
        "            data_info = map(lambda s: s.split('\\t'), r.readlines())\n",
        "\n",
        "        cls_map = {line_data[0]: line_data[1] for line_data in data_info}\n",
        "        image_names = os.listdir(imgs_path)\n",
        "        image_number = len(image_names)\n",
        "        images = random.sample(image_names, int(image_number*percent))\n",
        "        for image in images:\n",
        "            shutil.copyfile(os.path.join(imgs_path, image), os.path.join(new_imgs_path, image))\n",
        "    else:\n",
        "        imgs_path = os.path.join(dir_path, 'images')\n",
        "        new_imgs_path = os.path.join(new_dir_path, 'images')\n",
        "        os.makedirs(new_imgs_path, exist_ok=True)\n",
        "\n",
        "        image_names = os.listdir(imgs_path)\n",
        "        image_number = len(image_names)\n",
        "        images = random.sample(image_names, int(image_number*percent))\n",
        "        for image in images:\n",
        "            shutil.copyfile(os.path.join(imgs_path, image), os.path.join(new_imgs_path, image))\n",
        "    return images\n",
        "\n",
        "dataset_path = 'tiny-imagenet-200'\n",
        "new_dataset_path = 'tiny-imagenet-200-01'\n",
        "percent = 0.1\n",
        "if __name__=='__main__':\n",
        "    generate_partial_data(dataset_path, new_dataset_path, percent)\n"
      ],
      "execution_count": null,
      "outputs": [
        {
          "output_type": "stream",
          "text": [
            "50 for each class in train set\n",
            "50 for each class in train set\n",
            "50 for each class in train set\n",
            "50 for each class in train set\n",
            "50 for each class in train set\n",
            "50 for each class in train set\n",
            "50 for each class in train set\n",
            "50 for each class in train set\n",
            "50 for each class in train set\n",
            "50 for each class in train set\n",
            "50 for each class in train set\n",
            "50 for each class in train set\n",
            "50 for each class in train set\n",
            "50 for each class in train set\n",
            "50 for each class in train set\n",
            "50 for each class in train set\n",
            "50 for each class in train set\n",
            "50 for each class in train set\n",
            "50 for each class in train set\n",
            "50 for each class in train set\n",
            "50 for each class in train set\n",
            "50 for each class in train set\n",
            "50 for each class in train set\n",
            "50 for each class in train set\n",
            "50 for each class in train set\n",
            "50 for each class in train set\n",
            "50 for each class in train set\n",
            "50 for each class in train set\n",
            "50 for each class in train set\n",
            "50 for each class in train set\n",
            "50 for each class in train set\n",
            "50 for each class in train set\n",
            "50 for each class in train set\n",
            "50 for each class in train set\n",
            "50 for each class in train set\n",
            "50 for each class in train set\n",
            "50 for each class in train set\n",
            "50 for each class in train set\n",
            "50 for each class in train set\n",
            "50 for each class in train set\n",
            "50 for each class in train set\n",
            "50 for each class in train set\n",
            "50 for each class in train set\n",
            "50 for each class in train set\n",
            "50 for each class in train set\n",
            "50 for each class in train set\n",
            "50 for each class in train set\n",
            "50 for each class in train set\n",
            "50 for each class in train set\n",
            "50 for each class in train set\n",
            "50 for each class in train set\n",
            "50 for each class in train set\n",
            "50 for each class in train set\n",
            "50 for each class in train set\n",
            "50 for each class in train set\n",
            "50 for each class in train set\n",
            "50 for each class in train set\n",
            "50 for each class in train set\n",
            "50 for each class in train set\n",
            "50 for each class in train set\n",
            "50 for each class in train set\n",
            "50 for each class in train set\n",
            "50 for each class in train set\n",
            "50 for each class in train set\n",
            "50 for each class in train set\n",
            "50 for each class in train set\n",
            "50 for each class in train set\n",
            "50 for each class in train set\n",
            "50 for each class in train set\n",
            "50 for each class in train set\n",
            "50 for each class in train set\n",
            "50 for each class in train set\n",
            "50 for each class in train set\n",
            "50 for each class in train set\n",
            "50 for each class in train set\n",
            "50 for each class in train set\n",
            "50 for each class in train set\n",
            "50 for each class in train set\n",
            "50 for each class in train set\n",
            "50 for each class in train set\n",
            "50 for each class in train set\n",
            "50 for each class in train set\n",
            "50 for each class in train set\n",
            "50 for each class in train set\n",
            "50 for each class in train set\n",
            "50 for each class in train set\n",
            "50 for each class in train set\n",
            "50 for each class in train set\n",
            "50 for each class in train set\n",
            "50 for each class in train set\n",
            "50 for each class in train set\n",
            "50 for each class in train set\n",
            "50 for each class in train set\n",
            "50 for each class in train set\n",
            "50 for each class in train set\n",
            "50 for each class in train set\n",
            "50 for each class in train set\n",
            "50 for each class in train set\n",
            "50 for each class in train set\n",
            "50 for each class in train set\n",
            "50 for each class in train set\n",
            "50 for each class in train set\n",
            "50 for each class in train set\n",
            "50 for each class in train set\n",
            "50 for each class in train set\n",
            "50 for each class in train set\n",
            "50 for each class in train set\n",
            "50 for each class in train set\n",
            "50 for each class in train set\n",
            "50 for each class in train set\n",
            "50 for each class in train set\n",
            "50 for each class in train set\n",
            "50 for each class in train set\n",
            "50 for each class in train set\n",
            "50 for each class in train set\n",
            "50 for each class in train set\n",
            "50 for each class in train set\n",
            "50 for each class in train set\n",
            "50 for each class in train set\n",
            "50 for each class in train set\n",
            "50 for each class in train set\n",
            "50 for each class in train set\n",
            "50 for each class in train set\n",
            "50 for each class in train set\n",
            "50 for each class in train set\n",
            "50 for each class in train set\n",
            "50 for each class in train set\n",
            "50 for each class in train set\n",
            "50 for each class in train set\n",
            "50 for each class in train set\n",
            "50 for each class in train set\n",
            "50 for each class in train set\n",
            "50 for each class in train set\n",
            "50 for each class in train set\n",
            "50 for each class in train set\n",
            "50 for each class in train set\n",
            "50 for each class in train set\n",
            "50 for each class in train set\n",
            "50 for each class in train set\n",
            "50 for each class in train set\n",
            "50 for each class in train set\n",
            "50 for each class in train set\n",
            "50 for each class in train set\n",
            "50 for each class in train set\n",
            "50 for each class in train set\n",
            "50 for each class in train set\n",
            "50 for each class in train set\n",
            "50 for each class in train set\n",
            "50 for each class in train set\n",
            "50 for each class in train set\n",
            "50 for each class in train set\n",
            "50 for each class in train set\n",
            "50 for each class in train set\n",
            "50 for each class in train set\n",
            "50 for each class in train set\n",
            "50 for each class in train set\n",
            "50 for each class in train set\n",
            "50 for each class in train set\n",
            "50 for each class in train set\n",
            "50 for each class in train set\n",
            "50 for each class in train set\n",
            "50 for each class in train set\n",
            "50 for each class in train set\n",
            "50 for each class in train set\n",
            "50 for each class in train set\n",
            "50 for each class in train set\n",
            "50 for each class in train set\n",
            "50 for each class in train set\n",
            "50 for each class in train set\n",
            "50 for each class in train set\n",
            "50 for each class in train set\n",
            "50 for each class in train set\n",
            "50 for each class in train set\n",
            "50 for each class in train set\n",
            "50 for each class in train set\n",
            "50 for each class in train set\n",
            "50 for each class in train set\n",
            "50 for each class in train set\n",
            "50 for each class in train set\n",
            "50 for each class in train set\n",
            "50 for each class in train set\n",
            "50 for each class in train set\n",
            "50 for each class in train set\n",
            "50 for each class in train set\n",
            "50 for each class in train set\n",
            "50 for each class in train set\n",
            "50 for each class in train set\n",
            "50 for each class in train set\n",
            "50 for each class in train set\n",
            "50 for each class in train set\n",
            "50 for each class in train set\n",
            "50 for each class in train set\n",
            "50 for each class in train set\n",
            "50 for each class in train set\n",
            "50 for each class in train set\n",
            "50 for each class in train set\n",
            "50 for each class in train set\n",
            "50 for each class in train set\n",
            "50 for each class in train set\n",
            "50 for each class in train set\n"
          ],
          "name": "stdout"
        }
      ]
    },
    {
      "cell_type": "code",
      "metadata": {
        "id": "hwgzVjL8Ze44"
      },
      "source": [
        "import os\n",
        "import torch\n",
        "import torchvision\n",
        "import torchvision.transforms as transforms\n",
        "from torchvision import datasets\n",
        "import numpy as np\n",
        "import matplotlib.pyplot as plt"
      ],
      "execution_count": null,
      "outputs": []
    },
    {
      "cell_type": "code",
      "metadata": {
        "colab": {
          "base_uri": "https://localhost:8080/"
        },
        "id": "bNRIfhzqZX5v",
        "outputId": "e484f26d-72b4-4b91-f751-c823efbb4485"
      },
      "source": [
        "data_transforms = {\n",
        "    'train': transforms.Compose([\n",
        "        transforms.ToTensor(),\n",
        "    ]),\n",
        "    'val': transforms.Compose([\n",
        "        transforms.ToTensor(),\n",
        "    ]),\n",
        "    'test': transforms.Compose([\n",
        "        transforms.ToTensor(),\n",
        "    ])\n",
        "}\n",
        "\n",
        "data_dir = 'tiny-imagenet-200-01/'\n",
        "num_workers = {\n",
        "    'train' : 100,\n",
        "    'val'   : 0,\n",
        "    'test'  : 0\n",
        "}\n",
        "image_datasets = {x: datasets.ImageFolder(os.path.join(data_dir, x),\n",
        "                                          data_transforms[x])\n",
        "                  for x in ['train', 'val','test']}\n",
        "dataloaders = {x: torch.utils.data.DataLoader(image_datasets[x], batch_size=2,\n",
        "                                             shuffle=True, num_workers=num_workers[x])\n",
        "              for x in ['train', 'val', 'test']}\n",
        "dataset_sizes = {x: len(image_datasets[x]) for x in ['train', 'val', 'test']}"
      ],
      "execution_count": null,
      "outputs": [
        {
          "output_type": "stream",
          "text": [
            "/usr/local/lib/python3.7/dist-packages/torch/utils/data/dataloader.py:477: UserWarning: This DataLoader will create 100 worker processes in total. Our suggested max number of worker in current system is 4, which is smaller than what this DataLoader is going to create. Please be aware that excessive worker creation might get DataLoader running slow or even freeze, lower the worker number to avoid potential slowness/freeze if necessary.\n",
            "  cpuset_checked))\n"
          ],
          "name": "stderr"
        }
      ]
    },
    {
      "cell_type": "code",
      "metadata": {
        "colab": {
          "base_uri": "https://localhost:8080/"
        },
        "id": "umQBZl9gZkIy",
        "outputId": "36b1cf1a-3b4d-4f3e-c944-b06acd328d76"
      },
      "source": [
        "dataloaders"
      ],
      "execution_count": null,
      "outputs": [
        {
          "output_type": "execute_result",
          "data": {
            "text/plain": [
              "{'test': <torch.utils.data.dataloader.DataLoader at 0x7f64c1dc9410>,\n",
              " 'train': <torch.utils.data.dataloader.DataLoader at 0x7f651a687990>,\n",
              " 'val': <torch.utils.data.dataloader.DataLoader at 0x7f64c32e0950>}"
            ]
          },
          "metadata": {
            "tags": []
          },
          "execution_count": 5
        }
      ]
    },
    {
      "cell_type": "code",
      "metadata": {
        "colab": {
          "base_uri": "https://localhost:8080/",
          "height": 520
        },
        "id": "p3cM-7PMZkF7",
        "outputId": "cdfde853-674a-4143-caa7-910c3bb41a7b"
      },
      "source": [
        "from torchvision.utils import make_grid\n",
        "\n",
        "for images, _ in dataloaders['train']:\n",
        "    plt.figure(figsize=(16,8))\n",
        "    plt.axis('off')\n",
        "    plt.imshow(make_grid(images, nrow=8).permute((1, 2, 0)))\n",
        "    break"
      ],
      "execution_count": null,
      "outputs": [
        {
          "output_type": "stream",
          "text": [
            "/usr/local/lib/python3.7/dist-packages/torch/utils/data/dataloader.py:477: UserWarning: This DataLoader will create 100 worker processes in total. Our suggested max number of worker in current system is 4, which is smaller than what this DataLoader is going to create. Please be aware that excessive worker creation might get DataLoader running slow or even freeze, lower the worker number to avoid potential slowness/freeze if necessary.\n",
            "  cpuset_checked))\n"
          ],
          "name": "stderr"
        },
        {
          "output_type": "display_data",
          "data": {
            "image/png": "[encoded data removed]",
            "text/plain": [
              "<Figure size 1152x576 with 1 Axes>"
            ]
          },
          "metadata": {
            "tags": [],
            "needs_background": "light"
          }
        }
      ]
    },
    {
      "cell_type": "code",
      "metadata": {
        "id": "YZ79ppymXNju"
      },
      "source": [
        ""
      ],
      "execution_count": null,
      "outputs": []
    },
    {
      "cell_type": "markdown",
      "metadata": {
        "id": "QJBMsCihZxr6"
      },
      "source": [
        "#### The SIMCLR model\n",
        "\n",
        "Reference: \n",
        "https://github.com/leftthomas/SimCLR"
      ]
    },
    {
      "cell_type": "code",
      "metadata": {
        "id": "Btw0gs4LXokN"
      },
      "source": [
        "# model.py\n",
        "import torch\n",
        "import torch.nn as nn\n",
        "import torch.nn.functional as F\n",
        "from torchvision.models.resnet import resnet50\n",
        "\n",
        "class Model(nn.Module):\n",
        "    def __init__(self, feature_dim=128):\n",
        "        super(Model, self).__init__()\n",
        "\n",
        "        self.f = []\n",
        "        for name, module in resnet50().named_children():\n",
        "            if name == 'conv1':\n",
        "                module = nn.Conv2d(3, 64, kernel_size=3, stride=1, padding=1, bias=False)\n",
        "            if not isinstance(module, nn.Linear) and not isinstance(module, nn.MaxPool2d):\n",
        "                self.f.append(module)\n",
        "        # encoder\n",
        "        self.f = nn.Sequential(*self.f)\n",
        "        # projection head\n",
        "        self.g = nn.Sequential(nn.Linear(2048, 512, bias=False), nn.BatchNorm1d(512),\n",
        "                               nn.ReLU(inplace=True), nn.Linear(512, feature_dim, bias=True))\n",
        "\n",
        "    def forward(self, x):\n",
        "        x = self.f(x)\n",
        "        feature = torch.flatten(x, start_dim=1)\n",
        "        out = self.g(feature)\n",
        "        return F.normalize(feature, dim=-1), F.normalize(out, dim=-1)"
      ],
      "execution_count": null,
      "outputs": []
    },
    {
      "cell_type": "code",
      "metadata": {
        "colab": {
          "base_uri": "https://localhost:8080/"
        },
        "id": "TjBjASYsX1tO",
        "outputId": "b9b816d4-cf1e-488b-e52b-f1111daae9bf"
      },
      "source": [
        "!pip install thop"
      ],
      "execution_count": null,
      "outputs": [
        {
          "output_type": "stream",
          "text": [
            "Requirement already satisfied: thop in /usr/local/lib/python3.7/dist-packages (0.0.31.post2005241907)\n",
            "Requirement already satisfied: torch>=1.0.0 in /usr/local/lib/python3.7/dist-packages (from thop) (1.8.1+cu101)\n",
            "Requirement already satisfied: numpy in /usr/local/lib/python3.7/dist-packages (from torch>=1.0.0->thop) (1.19.5)\n",
            "Requirement already satisfied: typing-extensions in /usr/local/lib/python3.7/dist-packages (from torch>=1.0.0->thop) (3.7.4.3)\n"
          ],
          "name": "stdout"
        }
      ]
    },
    {
      "cell_type": "code",
      "metadata": {
        "id": "Qk0kPjcRZ7YF"
      },
      "source": [
        "# main.py\n",
        "import argparse\n",
        "import os\n",
        "\n",
        "import pandas as pd\n",
        "import torch\n",
        "import torch.optim as optim\n",
        "from thop import profile, clever_format\n",
        "from torch.utils.data import DataLoader\n",
        "from tqdm import tqdm\n"
      ],
      "execution_count": null,
      "outputs": []
    },
    {
      "cell_type": "markdown",
      "metadata": {
        "id": "NwhrDW8bHeIx"
      },
      "source": [
        "#### Training in 1 epoch"
      ]
    },
    {
      "cell_type": "code",
      "metadata": {
        "id": "KDQB1Knuak-1"
      },
      "source": [
        "# train for one epoch to learn unique features\n",
        "def train(net, data_loader, train_optimizer):\n",
        "    net.train()\n",
        "    total_loss, total_num, train_bar = 0.0, 0, tqdm(data_loader)\n",
        "    train_loss = []\n",
        "\n",
        "    for pos, labels in train_bar:\n",
        "        #print(pos.shape,labels)\n",
        "        pos = pos.cuda()\n",
        "\n",
        "        feature_1, out_1 = net(pos.view(-1,3, 64, 64).cuda())\n",
        "        feature_2, out_2 = net(pos.view(-1,3, 64, 64).cuda())\n",
        "        # [2*B, D]\n",
        "        out = torch.cat([out_1, out_2], dim=0)\n",
        "        # [2*B, 2*B]\n",
        "        sim_matrix = torch.exp(torch.mm(out, out.t().contiguous()) / temperature)\n",
        "        mask = (torch.ones_like(sim_matrix) - torch.eye(2 * batch_size, device=sim_matrix.device)).bool()\n",
        "        # [2*B, 2*B-1]\n",
        "        sim_matrix = sim_matrix.masked_select(mask).view(2 * batch_size, -1)\n",
        "\n",
        "        # compute loss\n",
        "        pos_sim = torch.exp(torch.sum(out_1 * out_2, dim=-1) / temperature)\n",
        "        # [2*B]\n",
        "        pos_sim = torch.cat([pos_sim, pos_sim], dim=0)\n",
        "        loss = (- torch.log(pos_sim / sim_matrix.sum(dim=-1))).mean()\n",
        "        train_loss.append(loss.cpu().data.item())\n",
        "        train_optimizer.zero_grad()\n",
        "        loss.backward()\n",
        "        train_optimizer.step()\n",
        "\n",
        "        total_num += batch_size\n",
        "        total_loss += loss.item() * batch_size\n",
        "        train_bar.set_description('Train Epoch: [{}/{}] Loss: {:.4f}'.format(epoch, epochs, total_loss / total_num))\n",
        "\n",
        "    return total_loss / total_num, train_loss"
      ],
      "execution_count": null,
      "outputs": []
    },
    {
      "cell_type": "code",
      "metadata": {
        "id": "30ujIVvUak7u"
      },
      "source": [
        "# test for one epoch, use weighted knn to find the most similar images' label to assign the test image\n",
        "def test(net, memory_data_loader, test_data_loader):\n",
        "    net.eval()\n",
        "    test_loss=[]\n",
        "    total_top1, total_top5, total_num, feature_bank = 0.0, 0.0, 0, []\n",
        "    with torch.no_grad():\n",
        "        # generate feature bank\n",
        "        for data,  target in tqdm(memory_data_loader, desc='Feature extracting'):\n",
        "            feature, out = net(data.cuda(non_blocking=True))\n",
        "            feature_bank.append(feature)\n",
        "            #print(target)\n",
        "        # [D, N]\n",
        "        feature_bank = torch.cat(feature_bank, dim=0).t().contiguous()\n",
        "        # [N]\n",
        "        feature_labels = torch.tensor(memory_data_loader.dataset.targets, device=feature_bank.device)\n",
        "        # loop test data to predict the label by weighted knn search\n",
        "        test_bar = tqdm(test_data_loader)\n",
        "        for data,  target in test_bar:\n",
        "            data, target = data.cuda(non_blocking=True), target.cuda(non_blocking=True)\n",
        "            feature, out = net(data)\n",
        "            total_num += data.size(0)\n",
        "            # [B, N]\n",
        "            sim_matrix = torch.mm(feature, feature_bank)\n",
        "            # [B, K]\n",
        "            sim_weight, sim_indices = sim_matrix.topk(k=k, dim=-1)\n",
        "            # [B, K]\n",
        "            sim_labels = torch.gather(feature_labels.expand(data.size(0), -1), dim=-1, index=sim_indices)\n",
        "            sim_weight = (sim_weight / temperature).exp()\n",
        "\n",
        "            # counts for each class\n",
        "            one_hot_label = torch.zeros(data.size(0) * k, c, device=sim_labels.device)\n",
        "            # [B*K, C]\n",
        "            one_hot_label = one_hot_label.scatter(dim=-1, index=sim_labels.view(-1, 1), value=1.0)\n",
        "            # weighted score ---> [B, C]\n",
        "            pred_scores = torch.sum(one_hot_label.view(data.size(0), -1, c) * sim_weight.unsqueeze(dim=-1), dim=1)\n",
        "\n",
        "            pred_labels = pred_scores.argsort(dim=-1, descending=True)\n",
        "            total_top1 += torch.sum((pred_labels[:, :1] == target.unsqueeze(dim=-1)).any(dim=-1).float()).item()\n",
        "            total_top5 += torch.sum((pred_labels[:, :5] == target.unsqueeze(dim=-1)).any(dim=-1).float()).item()\n",
        "            test_bar.set_description('Test Epoch: [{}/{}] Acc@1:{:.2f}% Acc@5:{:.2f}%'\n",
        "                                     .format(epoch, epochs, total_top1 / total_num * 100, total_top5 / total_num * 100))\n",
        "\n",
        "    return total_top1 / total_num * 100, total_top5 / total_num * 100"
      ],
      "execution_count": null,
      "outputs": []
    },
    {
      "cell_type": "code",
      "metadata": {
        "colab": {
          "base_uri": "https://localhost:8080/"
        },
        "id": "h52ij9jQaB7e",
        "outputId": "d8a52d67-8740-424b-f4e9-f7cdaaae91ef"
      },
      "source": [
        "batch_size =2\n",
        "if __name__ == '__main__':\n",
        "    import easydict\n",
        "    args = easydict.EasyDict({\n",
        "        \"feature_dim\":128,\n",
        "        \"temperature\": 0.5,\n",
        "        \"k\": 200,\n",
        "        \"barch_size\": 2,\n",
        "        \"epochs\": 10\n",
        "    })\n",
        "\n",
        "    train_loader = dataloaders['train']\n",
        "    memory_loader = dataloaders['train']\n",
        "    test_loader = dataloaders['val']\n",
        "\n",
        "    model = Model(128).cuda()\n",
        "    flops, params = profile(model, inputs=(torch.randn(1, 3, 32, 32).cuda(),))\n",
        "    flops, params = clever_format([flops, params])\n",
        "    print('# Model Params: {} FLOPs: {}'.format(params, flops))\n",
        "    optimizer = optim.Adam(model.parameters(), lr=1e-3, weight_decay=1e-6)\n",
        "    c =200 \n",
        "\n",
        "    # training loop\n",
        "    best_acc = 0.0\n",
        "    epochs =1\n",
        "    temperature =0.5\n",
        "    k = 200\n",
        "    feature_dim = 128\n",
        "    batch_size =2\n",
        "    results = {'train_loss': [], 'test_acc@1': [], 'test_acc@5': []}\n",
        "    save_name_pre = '{}_{}_{}_{}_{}'.format(feature_dim, temperature, k, batch_size, epochs)\n",
        "    if not os.path.exists('results'):\n",
        "        os.mkdir('results')\n",
        "    losses =[]\n",
        "    for epoch in range(1, epochs + 1):\n",
        "        train_loss, train_losses = train(model, train_loader, optimizer)\n",
        "        losses.extend(train_losses)\n",
        "        results['train_loss'].append(train_loss)\n",
        "        test_acc_1, test_acc_5 = test(model, memory_loader, test_loader)\n",
        "        results['test_acc@1'].append(test_acc_1)\n",
        "        results['test_acc@5'].append(test_acc_5)\n",
        "        # save statistics\n",
        "        data_frame = pd.DataFrame(data=results, index=range(1, epoch + 1))\n",
        "        data_frame.to_csv('results/{}_statistics.csv'.format(save_name_pre), index_label='epoch')\n",
        "        if test_acc_1 > best_acc:\n",
        "            best_acc = test_acc_1\n",
        "            torch.save(model.state_dict(), 'results/{}_model.pth'.format(save_name_pre))\n",
        "        np.savez('results/data.npz', train_loss = losses)"
      ],
      "execution_count": null,
      "outputs": [
        {
          "output_type": "stream",
          "text": [
            "\r  0%|          | 0/5000 [00:00<?, ?it/s]"
          ],
          "name": "stderr"
        },
        {
          "output_type": "stream",
          "text": [
            "[INFO] Register count_convNd() for <class 'torch.nn.modules.conv.Conv2d'>.\n",
            "[INFO] Register count_bn() for <class 'torch.nn.modules.batchnorm.BatchNorm2d'>.\n",
            "[INFO] Register zero_ops() for <class 'torch.nn.modules.activation.ReLU'>.\n",
            "\u001b[91m[WARN] Cannot find rule for <class 'torch.nn.modules.container.Sequential'>. Treat it as zero Macs and zero Params.\u001b[00m\n",
            "\u001b[91m[WARN] Cannot find rule for <class 'torchvision.models.resnet.Bottleneck'>. Treat it as zero Macs and zero Params.\u001b[00m\n",
            "[INFO] Register count_adap_avgpool() for <class 'torch.nn.modules.pooling.AdaptiveAvgPool2d'>.\n",
            "[INFO] Register count_linear() for <class 'torch.nn.modules.linear.Linear'>.\n",
            "[INFO] Register count_bn() for <class 'torch.nn.modules.batchnorm.BatchNorm1d'>.\n",
            "\u001b[91m[WARN] Cannot find rule for <class '__main__.Model'>. Treat it as zero Macs and zero Params.\u001b[00m\n",
            "# Model Params: 24.62M FLOPs: 1.31G\n"
          ],
          "name": "stdout"
        },
        {
          "output_type": "stream",
          "text": [
            "/usr/local/lib/python3.7/dist-packages/torch/utils/data/dataloader.py:477: UserWarning: This DataLoader will create 100 worker processes in total. Our suggested max number of worker in current system is 4, which is smaller than what this DataLoader is going to create. Please be aware that excessive worker creation might get DataLoader running slow or even freeze, lower the worker number to avoid potential slowness/freeze if necessary.\n",
            "  cpuset_checked))\n",
            "Train Epoch: [1/1] Loss: 0.0363: 100%|██████████| 5000/5000 [05:55<00:00, 14.07it/s]\n",
            "Feature extracting: 100%|██████████| 5000/5000 [00:43<00:00, 114.99it/s]\n",
            "Test Epoch: [1/1] Acc@1:1.50% Acc@5:5.80%: 100%|██████████| 500/500 [00:05<00:00, 84.74it/s]\n"
          ],
          "name": "stderr"
        }
      ]
    },
    {
      "cell_type": "code",
      "metadata": {
        "id": "ubHfWEAmaExk"
      },
      "source": [
        "torch.save(model.state_dict(), 'simclr-1.pth')"
      ],
      "execution_count": null,
      "outputs": []
    },
    {
      "cell_type": "code",
      "metadata": {
        "id": "u1FdCKgWlt26"
      },
      "source": [
        ""
      ],
      "execution_count": null,
      "outputs": []
    },
    {
      "cell_type": "markdown",
      "metadata": {
        "id": "U4Iq02IaaEzD"
      },
      "source": [
        "#### Traning in 5 epochs"
      ]
    },
    {
      "cell_type": "code",
      "metadata": {
        "id": "qpJlaOu2T0Pt"
      },
      "source": [
        "# train for one epoch to learn unique features\n",
        "def train(net, data_loader, train_optimizer):\n",
        "    net.train()\n",
        "    total_loss, total_num, train_bar = 0.0, 0, tqdm(data_loader)\n",
        "    train_loss = []\n",
        "\n",
        "    for pos, labels in train_bar:\n",
        "        #print(pos.shape,labels)\n",
        "        pos = pos.cuda()\n",
        "\n",
        "        feature_1, out_1 = net(pos.view(-1,3, 64, 64).cuda())\n",
        "        feature_2, out_2 = net(pos.view(-1,3, 64, 64).cuda())\n",
        "        # [2*B, D]\n",
        "        out = torch.cat([out_1, out_2], dim=0)\n",
        "        # [2*B, 2*B]\n",
        "        sim_matrix = torch.exp(torch.mm(out, out.t().contiguous()) / temperature)\n",
        "        mask = (torch.ones_like(sim_matrix) - torch.eye(2 * batch_size, device=sim_matrix.device)).bool()\n",
        "        # [2*B, 2*B-1]\n",
        "        sim_matrix = sim_matrix.masked_select(mask).view(2 * batch_size, -1)\n",
        "\n",
        "        # compute loss\n",
        "        pos_sim = torch.exp(torch.sum(out_1 * out_2, dim=-1) / temperature)\n",
        "        # [2*B]\n",
        "        pos_sim = torch.cat([pos_sim, pos_sim], dim=0)\n",
        "        loss = (- torch.log(pos_sim / sim_matrix.sum(dim=-1))).mean()\n",
        "        train_loss.append(loss.cpu().data.item())\n",
        "        train_optimizer.zero_grad()\n",
        "        loss.backward()\n",
        "        train_optimizer.step()\n",
        "\n",
        "        total_num += batch_size\n",
        "        total_loss += loss.item() * batch_size\n",
        "        train_bar.set_description('Train Epoch: [{}/{}] Loss: {:.4f}'.format(epoch, epochs, total_loss / total_num))\n",
        "\n",
        "    return total_loss / total_num, train_loss"
      ],
      "execution_count": null,
      "outputs": []
    },
    {
      "cell_type": "code",
      "metadata": {
        "id": "f-jkocFXaOl3"
      },
      "source": [
        "# test for one epoch, use weighted knn to find the most similar images' label to assign the test image\n",
        "def test(net, memory_data_loader, test_data_loader):\n",
        "    net.eval()\n",
        "    test_loss=[]\n",
        "    total_top1, total_top5, total_num, feature_bank = 0.0, 0.0, 0, []\n",
        "    with torch.no_grad():\n",
        "        # generate feature bank\n",
        "        for data,  target in tqdm(memory_data_loader, desc='Feature extracting'):\n",
        "            feature, out = net(data.cuda(non_blocking=True))\n",
        "            feature_bank.append(feature)\n",
        "            #print(target)\n",
        "        # [D, N]\n",
        "        feature_bank = torch.cat(feature_bank, dim=0).t().contiguous()\n",
        "        # [N]\n",
        "        feature_labels = torch.tensor(memory_data_loader.dataset.targets, device=feature_bank.device)\n",
        "        # loop test data to predict the label by weighted knn search\n",
        "        test_bar = tqdm(test_data_loader)\n",
        "        for data,  target in test_bar:\n",
        "            data, target = data.cuda(non_blocking=True), target.cuda(non_blocking=True)\n",
        "            feature, out = net(data)\n",
        "            total_num += data.size(0)\n",
        "\n",
        "            # [B, N]\n",
        "            sim_matrix = torch.mm(feature, feature_bank)\n",
        "            # [B, K]\n",
        "            sim_weight, sim_indices = sim_matrix.topk(k=k, dim=-1)\n",
        "            # [B, K]\n",
        "            sim_labels = torch.gather(feature_labels.expand(data.size(0), -1), dim=-1, index=sim_indices)\n",
        "            sim_weight = (sim_weight / temperature).exp()\n",
        "\n",
        "            # counts for each class\n",
        "            one_hot_label = torch.zeros(data.size(0) * k, c, device=sim_labels.device)\n",
        "            # [B*K, C]\n",
        "            one_hot_label = one_hot_label.scatter(dim=-1, index=sim_labels.view(-1, 1), value=1.0)\n",
        "            # weighted score ---> [B, C]\n",
        "            pred_scores = torch.sum(one_hot_label.view(data.size(0), -1, c) * sim_weight.unsqueeze(dim=-1), dim=1)\n",
        "\n",
        "            pred_labels = pred_scores.argsort(dim=-1, descending=True)\n",
        "            total_top1 += torch.sum((pred_labels[:, :1] == target.unsqueeze(dim=-1)).any(dim=-1).float()).item()\n",
        "            total_top5 += torch.sum((pred_labels[:, :5] == target.unsqueeze(dim=-1)).any(dim=-1).float()).item()\n",
        "            test_bar.set_description('Test Epoch: [{}/{}] Acc@1:{:.2f}% Acc@5:{:.2f}%'\n",
        "                                     .format(epoch, epochs, total_top1 / total_num * 100, total_top5 / total_num * 100))\n",
        "\n",
        "    return total_top1 / total_num * 100, total_top5 / total_num * 100"
      ],
      "execution_count": null,
      "outputs": []
    },
    {
      "cell_type": "code",
      "metadata": {
        "colab": {
          "base_uri": "https://localhost:8080/"
        },
        "id": "_qDdvN7DaOhD",
        "outputId": "2aebb017-1064-4eac-ea24-e7aeb26094d6"
      },
      "source": [
        "batch_size =2\n",
        "if __name__ == '__main__':\n",
        "    import easydict\n",
        "    args = easydict.EasyDict({\n",
        "        \"feature_dim\":128,\n",
        "        \"temperature\": 0.5,\n",
        "        \"k\": 200,\n",
        "        \"barch_size\": 2,\n",
        "        \"epochs\": 10\n",
        "    })\n",
        "\n",
        "    train_loader = dataloaders['train']\n",
        "    memory_loader = dataloaders['train']\n",
        "    test_loader = dataloaders['val']\n",
        "\n",
        "    model = Model(128).cuda()\n",
        "    flops, params = profile(model, inputs=(torch.randn(1, 3, 32, 32).cuda(),))\n",
        "    flops, params = clever_format([flops, params])\n",
        "    print('# Model Params: {} FLOPs: {}'.format(params, flops))\n",
        "    optimizer = optim.Adam(model.parameters(), lr=1e-3, weight_decay=1e-6)\n",
        "    c =200 \n",
        "\n",
        "    # training loop\n",
        "    best_acc = 0.0\n",
        "    epochs =5\n",
        "    temperature =0.5\n",
        "    k = 200\n",
        "    feature_dim = 128\n",
        "    batch_size =2\n",
        "    results = {'train_loss': [], 'test_acc@1': [], 'test_acc@5': []}\n",
        "    save_name_pre = '{}_{}_{}_{}_{}'.format(feature_dim, temperature, k, batch_size, epochs)\n",
        "    if not os.path.exists('results'):\n",
        "        os.mkdir('results')\n",
        "    losses =[]\n",
        "    for epoch in range(1, epochs + 1):\n",
        "        train_loss, train_losses = train(model, train_loader, optimizer)\n",
        "        losses.extend(train_losses)\n",
        "        results['train_loss'].append(train_loss)\n",
        "        test_acc_1, test_acc_5 = test(model, memory_loader, test_loader)\n",
        "        results['test_acc@1'].append(test_acc_1)\n",
        "        results['test_acc@5'].append(test_acc_5)\n",
        "        # save statistics\n",
        "        data_frame = pd.DataFrame(data=results, index=range(1, epoch + 1))\n",
        "        data_frame.to_csv('results/{}_statistics2.csv'.format(save_name_pre), index_label='epoch')\n",
        "        if test_acc_1 > best_acc:\n",
        "            best_acc = test_acc_1\n",
        "            torch.save(model.state_dict(), 'results/{}_model2.pth'.format(save_name_pre))\n",
        "        np.savez('results/data2.npz', train_loss = losses)"
      ],
      "execution_count": null,
      "outputs": [
        {
          "output_type": "stream",
          "text": [
            "\r  0%|          | 0/5000 [00:00<?, ?it/s]"
          ],
          "name": "stderr"
        },
        {
          "output_type": "stream",
          "text": [
            "[INFO] Register count_convNd() for <class 'torch.nn.modules.conv.Conv2d'>.\n",
            "[INFO] Register count_bn() for <class 'torch.nn.modules.batchnorm.BatchNorm2d'>.\n",
            "[INFO] Register zero_ops() for <class 'torch.nn.modules.activation.ReLU'>.\n",
            "\u001b[91m[WARN] Cannot find rule for <class 'torch.nn.modules.container.Sequential'>. Treat it as zero Macs and zero Params.\u001b[00m\n",
            "\u001b[91m[WARN] Cannot find rule for <class 'torchvision.models.resnet.Bottleneck'>. Treat it as zero Macs and zero Params.\u001b[00m\n",
            "[INFO] Register count_adap_avgpool() for <class 'torch.nn.modules.pooling.AdaptiveAvgPool2d'>.\n",
            "[INFO] Register count_linear() for <class 'torch.nn.modules.linear.Linear'>.\n",
            "[INFO] Register count_bn() for <class 'torch.nn.modules.batchnorm.BatchNorm1d'>.\n",
            "\u001b[91m[WARN] Cannot find rule for <class '__main__.Model'>. Treat it as zero Macs and zero Params.\u001b[00m\n",
            "# Model Params: 24.62M FLOPs: 1.31G\n"
          ],
          "name": "stdout"
        },
        {
          "output_type": "stream",
          "text": [
            "/usr/local/lib/python3.7/dist-packages/torch/utils/data/dataloader.py:477: UserWarning: This DataLoader will create 100 worker processes in total. Our suggested max number of worker in current system is 4, which is smaller than what this DataLoader is going to create. Please be aware that excessive worker creation might get DataLoader running slow or even freeze, lower the worker number to avoid potential slowness/freeze if necessary.\n",
            "  cpuset_checked))\n",
            "Train Epoch: [1/5] Loss: 0.0364: 100%|██████████| 5000/5000 [05:57<00:00, 14.00it/s]\n",
            "Feature extracting: 100%|██████████| 5000/5000 [00:43<00:00, 114.29it/s]\n",
            "Test Epoch: [1/5] Acc@1:0.20% Acc@5:1.50%: 100%|██████████| 500/500 [00:05<00:00, 84.61it/s]\n",
            "Train Epoch: [2/5] Loss: 0.0362: 100%|██████████| 5000/5000 [05:54<00:00, 14.10it/s]\n",
            "Feature extracting: 100%|██████████| 5000/5000 [00:43<00:00, 114.84it/s]\n",
            "Test Epoch: [2/5] Acc@1:1.30% Acc@5:3.10%: 100%|██████████| 500/500 [00:05<00:00, 85.01it/s]\n",
            "Train Epoch: [3/5] Loss: 0.0361: 100%|██████████| 5000/5000 [05:54<00:00, 14.10it/s]\n",
            "Feature extracting: 100%|██████████| 5000/5000 [00:43<00:00, 115.00it/s]\n",
            "Test Epoch: [3/5] Acc@1:0.10% Acc@5:1.50%: 100%|██████████| 500/500 [00:05<00:00, 85.18it/s]\n",
            "Train Epoch: [4/5] Loss: 0.0362: 100%|██████████| 5000/5000 [05:54<00:00, 14.12it/s]\n",
            "Feature extracting: 100%|██████████| 5000/5000 [00:43<00:00, 114.76it/s]\n",
            "Test Epoch: [4/5] Acc@1:0.40% Acc@5:2.10%: 100%|██████████| 500/500 [00:05<00:00, 84.60it/s]\n",
            "Train Epoch: [5/5] Loss: 0.0361: 100%|██████████| 5000/5000 [05:54<00:00, 14.10it/s]\n",
            "Feature extracting: 100%|██████████| 5000/5000 [00:43<00:00, 114.87it/s]\n",
            "Test Epoch: [5/5] Acc@1:0.10% Acc@5:1.10%: 100%|██████████| 500/500 [00:05<00:00, 85.06it/s]\n"
          ],
          "name": "stderr"
        }
      ]
    },
    {
      "cell_type": "code",
      "metadata": {
        "id": "DvV0iS-3aOdx"
      },
      "source": [
        ""
      ],
      "execution_count": null,
      "outputs": []
    },
    {
      "cell_type": "code",
      "metadata": {
        "id": "hOe0zSsPUAcW"
      },
      "source": [
        "torch.save(model.state_dict(), 'simclr-2.pth')"
      ],
      "execution_count": null,
      "outputs": []
    },
    {
      "cell_type": "code",
      "metadata": {
        "id": "C4aBM87NK1T9"
      },
      "source": [
        ""
      ],
      "execution_count": null,
      "outputs": []
    }
  ]
}